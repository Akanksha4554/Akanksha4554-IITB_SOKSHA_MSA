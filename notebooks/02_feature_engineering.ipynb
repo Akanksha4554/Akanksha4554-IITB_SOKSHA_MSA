{
  "nbformat": 4,
  "nbformat_minor": 0,
  "metadata": {
    "colab": {
      "provenance": [],
      "gpuType": "T4"
    },
    "kernelspec": {
      "name": "python3",
      "display_name": "Python 3"
    },
    "language_info": {
      "name": "python"
    },
    "accelerator": "GPU"
  },
  "cells": [
    {
      "cell_type": "markdown",
      "source": [
        "STEP 2: Feature Engineering"
      ],
      "metadata": {
        "id": "yk_BdjuYi3wB"
      }
    },
    {
      "cell_type": "code",
      "source": [
        "import pandas as pd, numpy as np, os\n",
        "\n",
        "# Load the preprocessed windows\n",
        "fw_path = \"data_out/features_windows.parquet\"\n",
        "features_windows = pd.read_parquet(fw_path)\n",
        "print(\"Loaded features:\", features_windows.shape)\n",
        "print(\"Columns sample:\", features_windows.columns[:15].tolist())\n",
        "print(\"Label distribution:\", features_windows[\"_y\"].value_counts().to_dict())"
      ],
      "metadata": {
        "colab": {
          "base_uri": "https://localhost:8080/"
        },
        "id": "KV8ZJl3dgGx0",
        "outputId": "9c149a6f-b333-47d6-8a24-f303205d599f"
      },
      "execution_count": null,
      "outputs": [
        {
          "output_type": "stream",
          "name": "stdout",
          "text": [
            "Loaded features: (4924, 125)\n",
            "Columns sample: ['Delta_TP9_mean', 'Delta_TP9_std', 'Delta_AF7_mean', 'Delta_AF7_std', 'Delta_AF8_mean', 'Delta_AF8_std', 'Delta_TP10_mean', 'Delta_TP10_std', 'Theta_TP9_mean', 'Theta_TP9_std', 'Theta_AF7_mean', 'Theta_AF7_std', 'Theta_AF8_mean', 'Theta_AF8_std', 'Theta_TP10_mean']\n",
            "Label distribution: {1: 3422, 2: 1288, 0: 214}\n"
          ]
        }
      ]
    },
    {
      "cell_type": "code",
      "source": [
        "def add_eeg_features(df):\n",
        "    # Frontal asymmetry: log(alpha right / alpha left)\n",
        "    if \"Alpha_AF8_mean\" in df and \"Alpha_AF7_mean\" in df:\n",
        "        df[\"eeg_frontal_asymmetry\"] = np.log1p(df[\"Alpha_AF8_mean\"] / (df[\"Alpha_AF7_mean\"] + 1e-6))\n",
        "    elif \"Alpha_F4_mean\" in df and \"Alpha_F3_mean\" in df:\n",
        "        df[\"eeg_frontal_asymmetry\"] = np.log1p(df[\"Alpha_F4_mean\"] / (df[\"Alpha_F3_mean\"] + 1e-6))\n",
        "    else:\n",
        "        df[\"eeg_frontal_asymmetry\"] = 0.0\n",
        "\n",
        "    # Engagement index = Beta / (Alpha + Theta)\n",
        "    beta_cols  = [c for c in df.columns if \"Beta\" in c and c.endswith(\"_mean\")]\n",
        "    alpha_cols = [c for c in df.columns if \"Alpha\" in c and c.endswith(\"_mean\")]\n",
        "    theta_cols = [c for c in df.columns if \"Theta\" in c and c.endswith(\"_mean\")]\n",
        "\n",
        "    if beta_cols and alpha_cols and theta_cols:\n",
        "        df[\"eeg_engagement_index\"] = df[beta_cols].mean(axis=1) / (df[alpha_cols].mean(axis=1) + df[theta_cols].mean(axis=1) + 1e-6)\n",
        "    else:\n",
        "        df[\"eeg_engagement_index\"] = 0.0\n",
        "\n",
        "    return df\n",
        "\n",
        "features_windows = add_eeg_features(features_windows)\n",
        "print(\"Added EEG features\")"
      ],
      "metadata": {
        "colab": {
          "base_uri": "https://localhost:8080/"
        },
        "id": "nrLeexMjhuTH",
        "outputId": "101fd6d6-8804-49ea-9a8f-85fa7c52eaee"
      },
      "execution_count": null,
      "outputs": [
        {
          "output_type": "stream",
          "name": "stdout",
          "text": [
            "Added EEG features\n"
          ]
        },
        {
          "output_type": "stream",
          "name": "stderr",
          "text": [
            "/usr/local/lib/python3.12/dist-packages/pandas/core/arraylike.py:399: RuntimeWarning: invalid value encountered in log1p\n",
            "  result = getattr(ufunc, method)(*inputs, **kwargs)\n"
          ]
        }
      ]
    },
    {
      "cell_type": "code",
      "source": [
        "from scipy.stats import linregress\n",
        "import numpy as np\n",
        "\n",
        "def add_gsr_features(df):\n",
        "    # find a GSR-related mean column\n",
        "    gsr_mean_cols = [c for c in df.columns if \"gsr\" in c.lower() or \"conductance\" in c.lower()]\n",
        "    gsr_mean_cols = [c for c in gsr_mean_cols if c.endswith(\"_mean\")]\n",
        "\n",
        "    if not gsr_mean_cols:\n",
        "        df[\"gsr_slope\"] = 0.0\n",
        "        return df\n",
        "\n",
        "    col = gsr_mean_cols[0]  # use the first GSR mean column\n",
        "\n",
        "    slopes = []\n",
        "    for i, val in enumerate(df[col].values):\n",
        "        # very simple slope proxy (trend over windows, here just index*value regression)\n",
        "        slopes.append(val * 0.01)   # fallback proxy, not raw slope since we don’t have per-window series\n",
        "    df[\"gsr_slope\"] = slopes\n",
        "\n",
        "    return df\n",
        "\n",
        "features_windows = add_gsr_features(features_windows)\n",
        "print(\"Added GSR features. Current shape:\", features_windows.shape)"
      ],
      "metadata": {
        "colab": {
          "base_uri": "https://localhost:8080/"
        },
        "id": "wmqIMRmShySi",
        "outputId": "48d6a1cf-3aa7-4223-81c3-927d19318a1e"
      },
      "execution_count": null,
      "outputs": [
        {
          "output_type": "stream",
          "name": "stdout",
          "text": [
            "Added GSR features. Current shape: (4924, 128)\n"
          ]
        }
      ]
    },
    {
      "cell_type": "code",
      "source": [
        "from scipy.stats import linregress\n",
        "import numpy as np\n",
        "\n",
        "def add_gsr_features(df):\n",
        "    gsr_mean_cols = [c for c in df.columns if \"gsr\" in c.lower() or \"conductance\" in c.lower()]\n",
        "    gsr_mean_cols = [c for c in gsr_mean_cols if c.endswith(\"_mean\")]\n",
        "\n",
        "    if not gsr_mean_cols:\n",
        "        df[\"gsr_slope\"] = 0.0\n",
        "        return df\n",
        "\n",
        "    col = gsr_mean_cols[0]\n",
        "    slopes = [val * 0.01 for val in df[col].values]  # simple proxy\n",
        "    df[\"gsr_slope\"] = slopes\n",
        "\n",
        "    return df\n",
        "\n",
        "features_windows = add_gsr_features(features_windows)\n",
        "print(\"Added GSR features. Current shape:\", features_windows.shape)"
      ],
      "metadata": {
        "colab": {
          "base_uri": "https://localhost:8080/"
        },
        "id": "duXdlACJlA0A",
        "outputId": "fd5709c4-e65e-4277-dbee-abddf86a3048"
      },
      "execution_count": null,
      "outputs": [
        {
          "output_type": "stream",
          "name": "stdout",
          "text": [
            "Added GSR features. Current shape: (4924, 128)\n"
          ]
        }
      ]
    },
    {
      "cell_type": "code",
      "source": [
        "def add_tiva_features(df):\n",
        "    au12 = [c for c in df.columns if \"AU12\" in c]\n",
        "    au4  = [c for c in df.columns if \"AU4\" in c]\n",
        "    au1  = [c for c in df.columns if \"AU1\" in c]\n",
        "\n",
        "    df[\"tiva_valence_proxy\"] = df[au12[0]] - df[au4[0]] if au12 and au4 else 0.0\n",
        "    df[\"tiva_arousal_proxy\"] = df[au1[0]] if au1 else 0.0\n",
        "\n",
        "    return df\n",
        "\n",
        "features_windows = add_tiva_features(features_windows)\n",
        "print(\"Added TIVA features\")"
      ],
      "metadata": {
        "colab": {
          "base_uri": "https://localhost:8080/"
        },
        "id": "r3qyvJfEh1ar",
        "outputId": "56865a92-f78f-4696-b7a2-c9c8873b5ed0"
      },
      "execution_count": null,
      "outputs": [
        {
          "output_type": "stream",
          "name": "stdout",
          "text": [
            "Added TIVA features\n"
          ]
        }
      ]
    },
    {
      "cell_type": "code",
      "source": [
        "# Fill missing values\n",
        "features_windows = features_windows.fillna(0)\n",
        "\n",
        "# Save engineered dataset\n",
        "out_path = \"data_out/features_engineered.parquet\"\n",
        "features_windows.to_parquet(out_path, index=False)\n",
        "\n",
        "print(\"Final engineered dataset shape:\", features_windows.shape)\n",
        "print(\"Saved to:\", out_path)"
      ],
      "metadata": {
        "colab": {
          "base_uri": "https://localhost:8080/"
        },
        "id": "ZfQBQbqCie0T",
        "outputId": "0f4a869e-0bec-4c08-f627-54ad8c16cb68"
      },
      "execution_count": null,
      "outputs": [
        {
          "output_type": "stream",
          "name": "stdout",
          "text": [
            "Final engineered dataset shape: (4924, 130)\n",
            "Saved to: data_out/features_engineered.parquet\n"
          ]
        }
      ]
    }
  ]
}